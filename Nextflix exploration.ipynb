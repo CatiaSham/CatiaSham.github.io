{
 "cells": [
  {
   "cell_type": "markdown",
   "metadata": {
    "slideshow": {
     "slide_type": "slide"
    }
   },
   "source": [
    "# Hackathon Notebook"
   ]
  },
  {
   "cell_type": "code",
   "execution_count": 1,
   "metadata": {
    "slideshow": {
     "slide_type": "slide"
    },
    "vscode": {
     "languageId": "plaintext"
    }
   },
   "outputs": [],
   "source": [
    "#!py -m pip install missingno\n",
    "import pandas as pd\n",
    "import seaborn as sns\n",
    "import matplotlib.pyplot as plt\n",
    "from datetime import datetime, date\n",
    "%matplotlib inline\n"
   ]
  },
  {
   "cell_type": "code",
   "execution_count": 2,
   "metadata": {},
   "outputs": [],
   "source": [
    "df = pd.read_csv('data/netflix_titles.csv')"
   ]
  },
  {
   "cell_type": "markdown",
   "metadata": {},
   "source": [
    "# Exploring the Netflix "
   ]
  },
  {
   "cell_type": "markdown",
   "metadata": {},
   "source": [
    "Dataset Netflix is one of the world's largest streaming platforms, with millions of users streaming movies and TV shows every day. As a result, Netflix has accumulated a massive amount of data that can be used to gain insights into user behaviour, preferences, and more. In this project, students will explore a dataset containing information about movies and TV shows available on Netflix."
   ]
  },
  {
   "cell_type": "markdown",
   "metadata": {},
   "source": [
    "# Brief"
   ]
  },
  {
   "cell_type": "markdown",
   "metadata": {},
   "source": [
    "The CEO of CS-Streaming has brought you and your team in to analyse Netflix data for their new streaming service. They are confident that your analysis will be helpful to you in making decisions about their service. They need your expertise to uncover trends and insights from the Netflix data that will be beneficial to their new product. They are eager to begin this project and will therefore need a timely response. You are to report on how CS-Streaming can best optimise its services and compete with Netflix."
   ]
  },
  {
   "cell_type": "code",
   "execution_count": 3,
   "metadata": {},
   "outputs": [],
   "source": [
    "df.columns"
   ]
  },
  {
   "cell_type": "code",
   "execution_count": 4,
   "metadata": {},
   "outputs": [],
   "source": [
    "'''\n",
    "Key Columns in the Dataset:\n",
    "1. show_id: An exclusive identifier for each show on Netflix.\n",
    "2. type: Indicates whether the entry is a \"Movie\" or a \"TV Show.\"\n",
    "3. title: The name of the movie or TV show.\n",
    "4. director: The director(s) responsible for the movie or TV show.\n",
    "5. cast: The principal cast or actors featured in the movie or TV show.\n",
    "6. country: The country or countries where the movie or TV show was produced.\n",
    "7. date_added: The date when the movie or TV show was added to the Netflix catalogue.\n",
    "8. release_year: The original release year of the movie or TV show.\n",
    "9. rating: The content rating assigned to the movie or TV show (e.g., PG, TV-MA, etc.).\n",
    "10. duration: For movies, the duration is in minutes; for TV shows, the number of seasons.\n",
    "11. listed_in: The genre(s) or category(ies) classifying the movie or TV show.\n",
    "12. description: A concise summary of the movie or TV show\n",
    "'''"
   ]
  },
  {
   "cell_type": "code",
   "execution_count": 5,
   "metadata": {},
   "outputs": [],
   "source": [
    "df.head()"
   ]
  },
  {
   "cell_type": "code",
   "execution_count": 6,
   "metadata": {},
   "outputs": [],
   "source": [
    "df.tail()"
   ]
  },
  {
   "cell_type": "code",
   "execution_count": 7,
   "metadata": {},
   "outputs": [],
   "source": [
    "df.shape"
   ]
  },
  {
   "cell_type": "code",
   "execution_count": 8,
   "metadata": {},
   "outputs": [],
   "source": [
    "df.describe()"
   ]
  },
  {
   "cell_type": "code",
   "execution_count": 9,
   "metadata": {},
   "outputs": [],
   "source": [
    "df.describe(include ='object')"
   ]
  },
  {
   "cell_type": "code",
   "execution_count": 10,
   "metadata": {},
   "outputs": [],
   "source": [
    "df.info()"
   ]
  },
  {
   "cell_type": "code",
   "execution_count": 11,
   "metadata": {},
   "outputs": [],
   "source": [
    "df.nunique()"
   ]
  },
  {
   "cell_type": "code",
   "execution_count": 12,
   "metadata": {},
   "outputs": [],
   "source": [
    "df.isnull().sum()"
   ]
  },
  {
   "cell_type": "code",
   "execution_count": 13,
   "metadata": {},
   "outputs": [],
   "source": [
    "plt.figure( figsize = (20,10))\n",
    "sns.heatmap(df.isnull(), cmap ='winter')\n",
    "plt.show()"
   ]
  },
  {
   "cell_type": "markdown",
   "metadata": {},
   "source": [
    "Large number of missing data in Director, Cast and Country. We will rectify this. "
   ]
  },
  {
   "cell_type": "code",
   "execution_count": 14,
   "metadata": {},
   "outputs": [],
   "source": [
    "df.dtypes"
   ]
  },
  {
   "cell_type": "code",
   "execution_count": 15,
   "metadata": {},
   "outputs": [],
   "source": [
    "df['date_added']= df['date_added'].str.lstrip(\" \")"
   ]
  },
  {
   "cell_type": "code",
   "execution_count": 16,
   "metadata": {},
   "outputs": [],
   "source": [
    "df['date_added']= pd.to_datetime(df['date_added'], format ='%B %d, %Y') \n",
    "df.head()"
   ]
  },
  {
   "cell_type": "code",
   "execution_count": 17,
   "metadata": {},
   "outputs": [],
   "source": [
    "df['date_added_day'] = df['date_added'].dt.day"
   ]
  },
  {
   "cell_type": "code",
   "execution_count": 18,
   "metadata": {},
   "outputs": [],
   "source": [
    "df['date_added_month'] = df['date_added'].dt.month"
   ]
  },
  {
   "cell_type": "code",
   "execution_count": 19,
   "metadata": {},
   "outputs": [],
   "source": [
    "df['date_added_year'] = df['date_added'].dt.year"
   ]
  },
  {
   "cell_type": "code",
   "execution_count": 20,
   "metadata": {},
   "outputs": [],
   "source": [
    "df.drop(['date_added'], axis =1, inplace = True)\n",
    "df.head()"
   ]
  },
  {
   "cell_type": "code",
   "execution_count": 21,
   "metadata": {},
   "outputs": [],
   "source": [
    "df.dtypes"
   ]
  },
  {
   "cell_type": "code",
   "execution_count": 22,
   "metadata": {},
   "outputs": [],
   "source": [
    "df.drop_duplicates()"
   ]
  },
  {
   "cell_type": "code",
   "execution_count": 23,
   "metadata": {},
   "outputs": [],
   "source": [
    "df.drop(['show_id'], axis =1, inplace = True)"
   ]
  },
  {
   "cell_type": "code",
   "execution_count": 24,
   "metadata": {},
   "outputs": [],
   "source": [
    "df.rename(columns={'listed_in' : 'category'}, inplace=True)"
   ]
  },
  {
   "cell_type": "code",
   "execution_count": 25,
   "metadata": {},
   "outputs": [],
   "source": [
    "# Standardize capitalization in categorical columns 'type' and 'rating'\n",
    "df['type'] = df['type'].str.capitalize()\n",
    "df['rating'] = df['rating'].str.upper()\n",
    "df.head()"
   ]
  },
  {
   "cell_type": "code",
   "execution_count": 26,
   "metadata": {},
   "outputs": [],
   "source": [
    "#fill Nan Values\n",
    "df['rating'] = df['rating'].fillna('Not Rated')\n",
    "df['country'] = df['country'].fillna('Unknown')\n",
    "df['duration'] = df['duration'].fillna('Unknown')\n",
    "df['director'] = df['director'].fillna('Unknown')\n",
    "df['cast'] = df['cast'].fillna('Unknown')"
   ]
  },
  {
   "cell_type": "code",
   "execution_count": 27,
   "metadata": {},
   "outputs": [],
   "source": [
    "#Fill Nan Values for numbrs with mode\n",
    "num_mode = df.select_dtypes(include= 'number'). mode()\n",
    "num_columns = df.select_dtypes(include= 'number')\n",
    "num_col= num_columns.columns\n",
    "df[num_col] = df[num_col].fillna(num_mode)"
   ]
  },
  {
   "cell_type": "code",
   "execution_count": 28,
   "metadata": {},
   "outputs": [],
   "source": [
    "df.dtypes"
   ]
  },
  {
   "cell_type": "markdown",
   "metadata": {},
   "source": [
    "# EDA including Visualizations"
   ]
  },
  {
   "cell_type": "code",
   "execution_count": 29,
   "metadata": {},
   "outputs": [],
   "source": [
    "types =  df['type'].value_counts()\n",
    "types"
   ]
  },
  {
   "cell_type": "code",
   "execution_count": 30,
   "metadata": {},
   "outputs": [],
   "source": [
    "plt.figure(figsize=(10,6))\n",
    "plt.pie(types ,labels=['Movies', 'TV Shows'], autopct='%1.1f%%')\n",
    "plt.title('Movies & TV Shows')\n",
    "plt.legend()\n",
    "plt.show()"
   ]
  },
  {
   "cell_type": "markdown",
   "metadata": {},
   "source": [
    "Movies make up nearly 2/3 of the Netflix Database. This means there is a gap in content our streaming service will be able to fil. "
   ]
  },
  {
   "cell_type": "code",
   "execution_count": 31,
   "metadata": {},
   "outputs": [],
   "source": [
    "#Relation between type and rating\n",
    "\n",
    "plt.figure(figsize=(10,8))\n",
    "sns.countplot(x='rating',hue='type',data=df)\n",
    "plt.title('Relation between Type and Rating')\n",
    "plt.xlabel('Rating')\n",
    "plt.ylabel('Frequency')\n",
    "plt.show()"
   ]
  },
  {
   "cell_type": "markdown",
   "metadata": {},
   "source": [
    "The two most common ratings are TV-MA ( Mature Audience) and TV-14 (restricted Parental Guidelines)."
   ]
  },
  {
   "cell_type": "code",
   "execution_count": 32,
   "metadata": {},
   "outputs": [],
   "source": [
    "'''assess director distribution by type'''\n",
    "'''remove unknowns first'''\n",
    "df2 = df.copy()\n",
    "df2 = df2.loc[df2['director']!= 'Unknown']\n",
    "types_director = df2.groupby('type')\n",
    "types_directors = types_director['director'].value_counts()\n",
    "types_directors"
   ]
  },
  {
   "cell_type": "code",
   "execution_count": 33,
   "metadata": {},
   "outputs": [],
   "source": [
    "#Asses directors of movies\n",
    "directors_movie = df['director'][df['type'] == 'Movie'].value_counts().sort_values(ascending=False).reset_index()\n",
    "directors_movie"
   ]
  },
  {
   "cell_type": "code",
   "execution_count": 34,
   "metadata": {},
   "outputs": [],
   "source": [
    "'''majority of directors of the movies are unkown, plot the known directors'''\n",
    "directors_movie = df2['director'][df2['type'] == 'Movie'].value_counts().sort_values(ascending=False).reset_index()\n",
    "directors_movie"
   ]
  },
  {
   "cell_type": "code",
   "execution_count": 35,
   "metadata": {},
   "outputs": [],
   "source": [
    "top_10_directors_movie= directors_movie.head(10)\n",
    "top_10_directors_movie.rename(columns = {'index': 'Directors', 'director':'Count'}, inplace = True)"
   ]
  },
  {
   "cell_type": "code",
   "execution_count": 36,
   "metadata": {},
   "outputs": [],
   "source": [
    "fig = top_10_directors_movie.plot( kind ='bar', x = 'Directors',y = 'Count',figsize=(8, 6))\n",
    "plt.title('Top 10 Directors In Netflix For Movies')\n",
    "plt.xlabel('Movie Director')\n",
    "plt.ylabel('Number Movies Directed')\n",
    "plt.show()"
   ]
  },
  {
   "cell_type": "code",
   "execution_count": 37,
   "metadata": {},
   "outputs": [],
   "source": [
    "'''majority of directors of the movies are unkown, plot the known directors'''\n",
    "directors_tvshow = df2['director'][df2['type'] == 'Tv show'].value_counts().sort_values(ascending=False).reset_index()\n",
    "top_10_directors_tvshow = directors_tvshow.head(10)\n",
    "top_10_directors_tvshow.rename(columns = {'index': 'Director', 'director':'Count'}, inplace = True)\n",
    "top_10_directors_tvshow"
   ]
  },
  {
   "cell_type": "code",
   "execution_count": 38,
   "metadata": {},
   "outputs": [],
   "source": [
    "# Ploting Top 10 Director In Netflix For Movies\n",
    "fig = top_10_directors_tvshow.plot( kind ='bar', x = 'Director',y = 'Count',figsize=(8, 6), color = 'red')\n",
    "plt.title('Top 10 Directors In Netflix For TV Show')\n",
    "plt.xlabel('TV Show Director')\n",
    "plt.ylabel('Number TV Shows directed')"
   ]
  },
  {
   "cell_type": "code",
   "execution_count": 39,
   "metadata": {},
   "outputs": [],
   "source": [
    "plt.figure(figsize=(10, 6))\n",
    "sns.boxplot( data= top_10_directors_movie, color ='blue',  )\n",
    "sns.boxplot( data= top_10_directors_tvshow, color ='green')\n",
    "plt.title('Director Distribution by type')\n",
    "plt.xlabel('Director')\n",
    "plt.ylabel('Type')\n",
    "#plt.legend('Movie', 'TV Show')\n",
    "plt.show()"
   ]
  },
  {
   "cell_type": "markdown",
   "metadata": {},
   "source": [
    "Less Variance in the TV Show Director dataset than that of the movies but data likely skewed due to the larger population of the Movies than that of TV Show"
   ]
  },
  {
   "cell_type": "code",
   "execution_count": 40,
   "metadata": {},
   "outputs": [],
   "source": [
    "#Asses the Countries that have produced the content. Usually a country will produce for the audience of that country.\n",
    "countries_ordered = df['country'].value_counts().sort_values(ascending=False).reset_index()\n",
    "countries_ordered.rename(columns = {'index': 'Country', 'country': 'Count'}, inplace = True)\n",
    "countries_ordered"
   ]
  },
  {
   "cell_type": "code",
   "execution_count": 41,
   "metadata": {},
   "outputs": [],
   "source": [
    "plt.figure(figsize = (10,6))\n",
    "sns.barplot(data = countries_ordered.head(10), x = 'Country' , y = 'Count')\n",
    "plt.title('Distribution of countries where content has been produced')\n",
    "plt.xlabel('Country')\n",
    "plt.ylabel('Number of content has been produced')\n",
    "plt.xticks(rotation = 90)\n",
    "plt.show()"
   ]
  },
  {
   "cell_type": "markdown",
   "metadata": {},
   "source": [
    "Out of 8807 content (TV Show / Movie), 2818 has been produced in the USA which is 32%.This implies the largest audience is consumers of American production, followed by India. However, 9.4% of the director database is unkown. "
   ]
  },
  {
   "cell_type": "code",
   "execution_count": 42,
   "metadata": {},
   "outputs": [],
   "source": [
    "sns.violinplot(data = countries_ordered)"
   ]
  },
  {
   "cell_type": "markdown",
   "metadata": {},
   "source": [
    "Clearly the data is highly skewed with the major producers being the outliers and most contries producing less than 200 content pieces. Proving the major audience is American and Indian consumers."
   ]
  },
  {
   "cell_type": "code",
   "execution_count": 44,
   "metadata": {},
   "outputs": [],
   "source": [
    "# Create a function to change column data from string to a list\n",
    "df5 = df.copy()\n",
    "\n",
    "def update_column_string_to_list(df4, column_list):\n",
    "    for each in column_list:\n",
    "        df5[each] = df5[each].str.split(', ')\n",
    "        \n",
    "#This function will create a heatmap when providing which type of data we are looking at.\n",
    "def create_heatmap(name_df):\n",
    "    df_heatmap = df5[df5[\"type\"]==name_df].copy()\n",
    "    update_column_string_to_list(df_heatmap, ['country', 'category'])\n",
    "    # Explode both 'country' and 'category' columns\n",
    "    df_exploded = df_heatmap.explode('country').explode('category')\n",
    "    # Group by 'country' and 'category', then count occurrences\n",
    "    df_counts = df_exploded.groupby(['country', 'category']).size().reset_index(name='count')\n",
    "    # Only care about count >= mean \n",
    "    df_counts = df_counts[df_counts[\"count\"] >= df_counts[\"count\"].mean()]\n",
    "    # Pivot the dataframe to create a matrix for heatmap\n",
    "    pivot_df = df_counts.pivot(\"category\", \"country\", \"count\")\n",
    "    # Plot heatmap\n",
    "    plt.figure(figsize=(20, 15))\n",
    "    sns.heatmap(pivot_df, cmap=\"icefire\", annot=False, linewidths=.5)\n",
    "    plt.title('Counts of ' + name_df + ' Type by Country (>= mean)')\n",
    "    plt.xlabel('Country')\n",
    "    plt.ylabel('Type')\n",
    "    plt.xticks(rotation=90)\n",
    "    plt.tight_layout()\n",
    "    plt.show()\n",
    "create_heatmap(\"Tv show\")"
   ]
  },
  {
   "cell_type": "markdown",
   "metadata": {},
   "source": [
    "The largest Produces of TV SHows for the categories TV Comedy, Kids TV(TV Comedies) and Docuseries is the United States. Making the United States the largest producers of TV Shows. A large number of TV Shows in the category Internation TV Shows, Korean TV Shows is highly produced by Korea."
   ]
  },
  {
   "cell_type": "code",
   "execution_count": 45,
   "metadata": {},
   "outputs": [],
   "source": [
    "#Assess the countries by content type\n",
    "countries_tvshow = df['country'][df['type'] == 'Tv show'].value_counts().sort_values(ascending=False).reset_index()\n",
    "countries_tvshow.rename(columns = {'index': 'Country', 'country': 'Count'}, inplace = True)\n",
    "countries_tvshow"
   ]
  },
  {
   "cell_type": "code",
   "execution_count": 46,
   "metadata": {},
   "outputs": [],
   "source": [
    "plt.figure(figsize = (10,6))\n",
    "sns.barplot(data = countries_tvshow.head(10), x = 'Country' , y = 'Count')\n",
    "plt.title('Distribution of countries where TV Shows have been produced')\n",
    "plt.xlabel('Country')\n",
    "plt.ylabel('Number of TV Shows produced')\n",
    "plt.xticks(rotation = 90)\n",
    "plt.show()"
   ]
  },
  {
   "cell_type": "markdown",
   "metadata": {},
   "source": [
    "Out of the 2676 TV Shows, USA produced 760, which is 28%. India was the second largest producer however, the 6th largest producer for TV Shows. Indicates India consumers prefer Movies as the country manufactures for the coutries audience. However, still evident that the large proportion of unkown directors lies in this dataset, skewing the data."
   ]
  },
  {
   "cell_type": "code",
   "execution_count": 47,
   "metadata": {},
   "outputs": [],
   "source": [
    "# Create a function to change column data from string to a list\n",
    "df4 = df.copy()\n",
    "name_df = 'Movie'\n",
    "def update_column_string_to_list(df4, column_list):\n",
    "    for each in column_list:\n",
    "        df4[each] = df4[each].str.split(', ')\n",
    "        \n",
    "#This function will create a heatmap when providing which type of data we are looking at.\n",
    "def create_heatmap(name_df):\n",
    "    df_heatmap = df4[df4[\"type\"]==name_df].copy()\n",
    "    update_column_string_to_list(df_heatmap, ['country', 'category'])\n",
    "    # Explode both 'country' and 'category' columns\n",
    "    df_exploded = df_heatmap.explode('country').explode('category')\n",
    "    # Group by 'country' and 'category', then count occurrences\n",
    "    df_counts = df_exploded.groupby(['country', 'category']).size().reset_index(name='count')\n",
    "    # Only care about count >= mean \n",
    "    df_counts = df_counts[df_counts[\"count\"] >= df_counts[\"count\"].mean()]\n",
    "    # Pivot the dataframe to create a matrix for heatmap\n",
    "    pivot_df = df_counts.pivot(\"category\", \"country\", \"count\")\n",
    "    # Plot heatmap\n",
    "    plt.figure(figsize=(14, 10))\n",
    "    sns.heatmap(pivot_df, cmap=\"icefire\", annot=False, linewidths=.5)\n",
    "    plt.title('Counts of ' + name_df + ' Type by Country (>= mean)')\n",
    "    plt.xlabel('Country')\n",
    "    plt.ylabel('Type')\n",
    "    plt.xticks(rotation=90)\n",
    "    plt.tight_layout()\n",
    "    plt.show()\n",
    "create_heatmap(\"Movie\")\n"
   ]
  },
  {
   "cell_type": "code",
   "execution_count": 48,
   "metadata": {},
   "outputs": [],
   "source": [
    "countries_movie = df['country'][df['type'] == 'Movie'].value_counts().sort_values(ascending=False).reset_index()\n",
    "countries_movie.rename(columns = {'index': 'Country', 'country': 'Count'}, inplace = True)\n",
    "countries_movie"
   ]
  },
  {
   "cell_type": "code",
   "execution_count": 49,
   "metadata": {},
   "outputs": [],
   "source": [
    "plt.figure(figsize = (10,6))\n",
    "sns.barplot(data = countries_movie.head(10), x = 'Country' , y = 'Count')\n",
    "plt.title('Distribution of countries where movies were produced')\n",
    "plt.xlabel('Country')\n",
    "plt.ylabel('Number of movies produced')\n",
    "plt.xticks(rotation = 90)\n",
    "plt.show()"
   ]
  },
  {
   "cell_type": "markdown",
   "metadata": {},
   "source": [
    "Out of the 6131 movies on Netflix, USA has produce 2058 movies which is 34% followed by India, the second largest Movie producer producing 15% of movies. Nearly 50% of the movies on Netflix are aimed for american and Indian consumers. "
   ]
  },
  {
   "cell_type": "code",
   "execution_count": 50,
   "metadata": {},
   "outputs": [],
   "source": [
    "df.columns"
   ]
  },
  {
   "cell_type": "code",
   "execution_count": 51,
   "metadata": {},
   "outputs": [],
   "source": [
    "# Asses the major producing countries by category\n",
    "df3= df.copy()\n",
    "\n",
    "# -Create a function to change data from string to a list\n",
    "def update_column_string_to_list(column_list):\n",
    "    for each in column_list:\n",
    "        df3[each] = df3[each].str.split(', ')\n",
    "        \n",
    "update_column_string_to_list(['country', 'category'])\n",
    "\n",
    "# Explode both 'country' and 'Category' columns\n",
    "df_exploded = df3.explode('country').explode('category')\n",
    "\n",
    "# Group by 'country' and 'Category', then count occurrences\n",
    "df_counts = df_exploded.groupby(['country', 'category']).size().reset_index(name='count')\n",
    "\n",
    "# Only want the records with count greater than mean\n",
    "df_counts = df_counts[df_counts['count'] > 16]\n",
    "\n",
    "# Pivot the dataframe to create a matrix for heatmap\n",
    "pivot_df = df_counts.pivot(\"category\", \"country\", \"count\")\n",
    "\n",
    "# Plot heatmap with a different color palette\n",
    "plt.figure(figsize=(14, 10))\n",
    "sns.heatmap(pivot_df, cmap=\"RdYlBu\", annot=False, linewidths=.5)\n",
    "plt.title('Counts of Category by Country')\n",
    "plt.xlabel('Country')\n",
    "plt.ylabel('Category')\n",
    "plt.xticks(rotation=90)\n",
    "plt.yticks(rotation=0)\n",
    "plt.tight_layout()\n",
    "plt.show()"
   ]
  },
  {
   "cell_type": "markdown",
   "metadata": {},
   "source": [
    "It is evident that the largest producers are India and United States specifically in categories of Drama, International Movies and Comedy."
   ]
  },
  {
   "cell_type": "code",
   "execution_count": 52,
   "metadata": {},
   "outputs": [],
   "source": [
    "#Asses the most common titles\n",
    "top_titles = df['title'].value_counts().head(10).reset_index()\n",
    "top_titles.rename(columns = {'index': 'Title', 'title': 'Count'}, inplace = True)\n",
    "top_titles"
   ]
  },
  {
   "cell_type": "code",
   "execution_count": 53,
   "metadata": {},
   "outputs": [],
   "source": [
    "plt.figure(figsize = (10,6))\n",
    "sns.barplot(data = top_titles, x = 'Title' , y = 'Count', palette = 'Set2')\n",
    "plt.title('Top 10 Most Common Titles')\n",
    "plt.xlabel('Title')\n",
    "plt.ylabel('Number of Appearances')\n",
    "plt.xticks(rotation = 90)\n",
    "plt.show()"
   ]
  },
  {
   "cell_type": "code",
   "execution_count": 54,
   "metadata": {},
   "outputs": [],
   "source": [
    "#Assess the most common cast members\n",
    "top_cast = df['cast'].value_counts().head(10).reset_index()\n",
    "top_cast = top_cast[top_cast['index']!= 'Unknown']\n",
    "top_cast.rename(columns = {'index': 'Cast', 'cast': 'Count'}, inplace = True)\n",
    "top_cast"
   ]
  },
  {
   "cell_type": "code",
   "execution_count": 55,
   "metadata": {},
   "outputs": [],
   "source": [
    "plt.figure(figsize = (10,6))\n",
    "sns.barplot(data = top_cast, x = 'Cast' , y = 'Count', palette = 'Set3')\n",
    "plt.title('Top 10 Cost Common Cast Members')\n",
    "plt.xlabel('Cast Member')\n",
    "plt.ylabel('Number of Appearances')\n",
    "plt.xticks(rotation = 90)\n",
    "plt.show()"
   ]
  },
  {
   "cell_type": "code",
   "execution_count": 56,
   "metadata": {},
   "outputs": [],
   "source": [
    "#Assess the year content is added to Netflix\n",
    "\n",
    "plt.figure(figsize = (10,6))\n",
    "sns.countplot(data = df, x = 'date_added_year' , order = df['date_added_year'].value_counts().index)\n",
    "plt.title('Distribution of years content has been added to Netflix')\n",
    "plt.xlabel('Year Added')\n",
    "plt.ylabel('Quantity of Content')\n",
    "plt.xticks(rotation = 90)\n",
    "plt.show()"
   ]
  },
  {
   "cell_type": "markdown",
   "metadata": {},
   "source": [
    "Most content has been added to Netflix in 2019, making a quarter of the content 2 years old. If our streaming service delivers more current content we will bring in Netflix audience and maintain them as well as open a new window for a larger audience."
   ]
  },
  {
   "cell_type": "code",
   "execution_count": 57,
   "metadata": {},
   "outputs": [],
   "source": [
    "#Assess the month content is added to Netflix\n",
    "\n",
    "plt.figure(figsize = (10,6))\n",
    "sns.countplot(data = df, x = 'date_added_month' , order = df['date_added_month'].value_counts().index)\n",
    "plt.title('Distribution of the month content has been added to Netflix')\n",
    "plt.xlabel('Month Added')\n",
    "plt.ylabel('Quantity of Content')\n",
    "plt.xticks(rotation = 90)\n",
    "plt.show()"
   ]
  },
  {
   "cell_type": "markdown",
   "metadata": {},
   "source": [
    "Most content has been added in July, possibly intime for school holidays in preparation to entertain children. Second most common month is december, the month of festivities and christmas, a popular time for festive content to be added. February is the month Netflix addeds conetnt, this is an opening for us to fill as well as the festivity of Valentines, there will be a market spot our service can hold."
   ]
  },
  {
   "cell_type": "code",
   "execution_count": 58,
   "metadata": {},
   "outputs": [],
   "source": [
    "sns.pairplot(df)"
   ]
  },
  {
   "cell_type": "code",
   "execution_count": 59,
   "metadata": {},
   "outputs": [],
   "source": [
    "plt.figure(figsize = (10,6))\n",
    "sns.histplot(data = df, x='release_year', bins=50)\n",
    "plt.title('Distribution of years content has released for public consumption ordered by numerical year')\n",
    "plt.xlabel('Year Content was Released')\n",
    "plt.ylabel('Quantity of Content')\n",
    "plt.xticks(rotation = 90)\n",
    "plt.show()\n"
   ]
  },
  {
   "cell_type": "code",
   "execution_count": 60,
   "metadata": {
    "scrolled": true
   },
   "outputs": [],
   "source": [
    "#Assess the year content was released for consumerism\n",
    "plt.figure(figsize = (10,6))\n",
    "sns.countplot(data = df, x = 'release_year' , order = df['release_year'].value_counts().index)\n",
    "plt.title('Distribution of years content has released for public consumption ordered by content released per year')\n",
    "plt.xlabel('Year Content was Released')\n",
    "plt.ylabel('Quantity of Content')\n",
    "plt.xticks(rotation = 90)\n",
    "plt.show()"
   ]
  },
  {
   "cell_type": "markdown",
   "metadata": {},
   "source": [
    "It is noted that Netflix contains a portion of older content, year 2000 and less however most of the content was released 2010 and above. This implies that the consumer is younger of age and prefers more relavnt content in trend with current age but netflix main content is TV-MA, yet another open window our service can fill. "
   ]
  },
  {
   "cell_type": "code",
   "execution_count": 61,
   "metadata": {},
   "outputs": [],
   "source": [
    "type_release_year = df[['type', 'release_year']]\n",
    "type_releaseyear =type_release_year.groupby(['type', 'release_year']).size().reset_index(name='Total Count').sort_values(by = 'Total Count', ascending = False)\n",
    "type_releaseyear.head(20)"
   ]
  },
  {
   "cell_type": "code",
   "execution_count": 62,
   "metadata": {},
   "outputs": [],
   "source": [
    "plt.figure(figsize = (10,6))\n",
    "sns.lineplot(data = type_releaseyear.head(100), x = 'release_year', y = 'Total Count', hue = 'type')\n",
    "plt.show()"
   ]
  },
  {
   "cell_type": "code",
   "execution_count": 63,
   "metadata": {},
   "outputs": [],
   "source": [
    "plt.figure(figsize = (10,6))\n",
    "sns.boxplot(data=df[['release_year']])\n",
    "plt.show()"
   ]
  },
  {
   "cell_type": "code",
   "execution_count": 64,
   "metadata": {},
   "outputs": [],
   "source": [
    "df['release_year'].describe()"
   ]
  },
  {
   "cell_type": "markdown",
   "metadata": {},
   "source": [
    "As can be seen from above. Most releases were within the years 2013 - 2019 (Q1 to Q3). Making all data in the long tail below 2000 are outliers. "
   ]
  },
  {
   "cell_type": "code",
   "execution_count": 65,
   "metadata": {},
   "outputs": [],
   "source": [
    "#The oldest released Titles on Netflix\n",
    "outlier_release_year = df.sort_values(\"release_year\", ascending = True)\n",
    "outlier_release_year = outlier_release_year[outlier_release_year['duration'] != \"\"]\n",
    "outlier_release_year = outlier_release_year[outlier_release_year[\"release_year\"]<2000]\n",
    "outlier_release_year[['title', \"release_year\"]]"
   ]
  },
  {
   "cell_type": "code",
   "execution_count": 66,
   "metadata": {},
   "outputs": [],
   "source": [
    "outlier_release_year.shape"
   ]
  },
  {
   "cell_type": "markdown",
   "metadata": {},
   "source": [
    "Consequently out of the 8807 content on 525 content are outliers."
   ]
  },
  {
   "cell_type": "code",
   "execution_count": 67,
   "metadata": {},
   "outputs": [],
   "source": [
    "plt.figure(figsize = (10,6))\n",
    "sns.boxplot(data=df, x= 'release_year', y='type', hue='type')\n",
    "\n",
    "plt.show()"
   ]
  },
  {
   "cell_type": "code",
   "execution_count": 68,
   "metadata": {},
   "outputs": [],
   "source": [
    "mov = df['release_year'][df['type'] == 'Movie']\n",
    "tvs = df['release_year'][df['type'] == 'Tv show']\n",
    "print (mov.describe(), tvs.describe())"
   ]
  },
  {
   "cell_type": "code",
   "execution_count": 69,
   "metadata": {},
   "outputs": [],
   "source": [
    "\n",
    "''' cant use because it is not a normal distribution therefore doesnt comply with this method'''\n",
    "'''tvs_mean = tvs.mean()\n",
    "tvs_std = tvs.std()\n",
    "tvs_q1 = tvs_mean - 3*tvs_std\n",
    "tvs_q3 = tvs_mean + 3*tvs_std\n",
    "print (tvs_mean, tvs_std, tvs_q1, tvs_q3)'''"
   ]
  },
  {
   "cell_type": "markdown",
   "metadata": {},
   "source": [
    "As indicated in the box plot above, TVShows on Netflix have closer releases to the present year, making them more relevant. Most TV Shows have been released between 2016 - 2020 with a few outliers below the year 2016. TV Shows have less variation in release year whilst movies are more spread, as pictured by the size of each of the boxes in the box plot and the whiskers. Movies release year commonly between 2012 - 2018 with outliers released between 1942 - 2012. It is noted that the oldest content is a TV show released in 1925."
   ]
  },
  {
   "cell_type": "code",
   "execution_count": 70,
   "metadata": {},
   "outputs": [],
   "source": [
    "df3= df.copy()\n",
    "\n",
    "# -Create a function to change data from string to a list\n",
    "def update_column_string_to_list(column_list):\n",
    "    for each in column_list:\n",
    "        df3[each] = df3[each].str.split(', ')\n",
    "        \n",
    "update_column_string_to_list(['country', 'category'])\n",
    "\n",
    "# Explode both 'country' and 'Category' columns\n",
    "df_exploded = df3.explode('country').explode('category')\n",
    "\n",
    "# Group by 'country' and 'Category', then count occurrences\n",
    "df_counts = df_exploded.groupby(['country', 'category']).size().reset_index(name='count')\n",
    "\n",
    "# Only want the records with count greater than mean\n",
    "df_counts = df_counts[df_counts['count'] > 16]\n",
    "\n",
    "# Pivot the dataframe to create a matrix for heatmap\n",
    "pivot_df = df_counts.pivot(\"category\", \"country\", \"count\")\n",
    "\n",
    "# Plot heatmap with a different color palette\n",
    "plt.figure(figsize=(14, 10))\n",
    "sns.heatmap(pivot_df, cmap=\"RdYlBu\", annot=False, linewidths=.5)\n",
    "plt.title('Counts of Category by Country')\n",
    "plt.xlabel('Country')\n",
    "plt.ylabel('Category')\n",
    "plt.xticks(rotation=90)\n",
    "plt.yticks(rotation=0)\n",
    "plt.tight_layout()\n",
    "plt.show()"
   ]
  },
  {
   "cell_type": "markdown",
   "metadata": {},
   "source": [
    "From the heat map it is evident that the most consumed content is Internation Movies and Drama's produced in India and Drama's and Comdies produced in the United States. It is noted that these countries produce the highest count of these contents. These will therefore be prposed as the target audience and producers. "
   ]
  },
  {
   "cell_type": "code",
   "execution_count": 71,
   "metadata": {},
   "outputs": [],
   "source": [
    "#category distribution \n",
    "#df['category'] = df['category'].str.split(',')\n",
    "genre_count_df = df3.explode('category').groupby('category')['title'].count().reset_index(name='count')\n",
    "plt.figure(figsize=(10, 6))\n",
    "sns.barplot(data=genre_count_df, x='category', y='count', color='blue')\n",
    "plt.title('Category Count')\n",
    "plt.xlabel('Category')\n",
    "plt.ylabel('Count')\n",
    "plt.xticks(rotation=90)\n",
    "plt.show()\n"
   ]
  },
  {
   "cell_type": "code",
   "execution_count": 72,
   "metadata": {},
   "outputs": [],
   "source": [
    "#Assess the most common categories\n",
    "top_categories = df['category'].value_counts().head(10).reset_index()\n",
    "top_categories.rename(columns={'index': 'Category', 'category' : 'Count'}, inplace = True)\n",
    "top_categories"
   ]
  },
  {
   "cell_type": "code",
   "execution_count": 73,
   "metadata": {},
   "outputs": [],
   "source": [
    "plt.figure(figsize = (10,6))\n",
    "sns.barplot(data = top_categories, x = 'Category' , y = 'Count', palette = 'Set1')\n",
    "plt.title('Top 10 Most Common Categories')\n",
    "plt.xlabel('Category')\n",
    "plt.ylabel('Number of Appearances')\n",
    "plt.xticks(rotation = 90)\n",
    "plt.show()"
   ]
  },
  {
   "cell_type": "code",
   "execution_count": 74,
   "metadata": {},
   "outputs": [],
   "source": [
    "#Assess category by type\n",
    "categories_movie = df['category'][df['type'] == 'Movie'].value_counts().sort_values(ascending=False).reset_index().head(10)\n",
    "categories_movie.rename(columns={'index': 'Category', 'category' : 'Count'}, inplace = True)\n",
    "categories_movie"
   ]
  },
  {
   "cell_type": "code",
   "execution_count": 75,
   "metadata": {},
   "outputs": [],
   "source": [
    "plt.figure(figsize = (10,6))\n",
    "sns.barplot(data = categories_movie, x = 'Category' , y = 'Count', palette = 'Set1')\n",
    "plt.title('Top 10 Most Common Categories for Movies')\n",
    "plt.xlabel('Categories')\n",
    "plt.ylabel('Number of Appearances')\n",
    "plt.xticks(rotation = 90)\n",
    "plt.show()"
   ]
  },
  {
   "cell_type": "code",
   "execution_count": 76,
   "metadata": {},
   "outputs": [],
   "source": [
    "categories_tvshow = df['category'][df['type'] == 'Tv show'].value_counts().sort_values(ascending=False).reset_index().head(10)\n",
    "categories_tvshow.rename(columns={'index': 'Category', 'category' : 'Count'}, inplace = True)\n",
    "categories_tvshow"
   ]
  },
  {
   "cell_type": "code",
   "execution_count": 77,
   "metadata": {},
   "outputs": [],
   "source": [
    "plt.figure(figsize = (10,6))\n",
    "sns.barplot(data = categories_tvshow, x = 'Category' , y = 'Count', palette = 'Set1')\n",
    "plt.title('Top 10 Most Common Categories for TV Shows')\n",
    "plt.xlabel('Categories')\n",
    "plt.ylabel('Number of Appearances')\n",
    "plt.xticks(rotation = 90)\n",
    "plt.show()"
   ]
  },
  {
   "cell_type": "code",
   "execution_count": 78,
   "metadata": {},
   "outputs": [],
   "source": [
    "\n",
    "#Assess most common Words\n",
    "import nltk\n",
    "nltk.download('punkt')\n",
    "from nltk.tokenize import word_tokenize\n",
    "from nltk.corpus import stopwords\n",
    "from nltk.probability import FreqDist\n",
    "import string\n",
    "from os import path\n",
    "from PIL import Image\n",
    "from wordcloud import WordCloud, STOPWORDS, ImageColorGenerator\n",
    " \n",
    "nltk.download('stopwords')\n",
    " \n",
    "all_descriptions = ' '.join(df3['description'])\n",
    " \n",
    "words = word_tokenize(all_descriptions)\n",
    " \n",
    "stop_words = set(stopwords.words('english'))\n",
    " \n",
    "filtered_words = [word for word in words if word.lower() not in stop_words and word.isalpha()]\n",
    " \n",
    "word_freq = FreqDist(filtered_words)\n",
    " \n",
    "common_words = word_freq.most_common()\n",
    "common_words_filtered = [(word, freq) for word, freq in common_words if freq > 100]\n",
    " \n",
    "print(common_words_filtered)\n"
   ]
  },
  {
   "cell_type": "code",
   "execution_count": 79,
   "metadata": {},
   "outputs": [],
   "source": [
    "#display comment words\n",
    "com_words =[]\n",
    "for i in common_words:\n",
    "    com_words.append(i[0])\n",
    "top_words = com_words[:101]\n",
    "comment_words = ''\n",
    "for i in range(len(top_words)):\n",
    "    top_words[i] = top_words[i].lower()\n",
    "     \n",
    "comment_words += \" \".join(top_words)+\" \"\n",
    "\n",
    "wordcloud = WordCloud(max_font_size=50, max_words=1000, background_color=\"white\").generate(comment_words)\n",
    "plt.figure(figsize = (20,10))\n",
    "plt.imshow(wordcloud,interpolation=\"bilinear\")\n",
    "plt.axis(\"off\")\n",
    "plt.show()"
   ]
  },
  {
   "cell_type": "code",
   "execution_count": null,
   "metadata": {},
   "outputs": [],
   "source": []
  },
  {
   "cell_type": "markdown",
   "metadata": {},
   "source": [
    "# Recommendations:"
   ]
  },
  {
   "cell_type": "markdown",
   "metadata": {},
   "source": [
    "Audience: Netflix largest consumers are based of United Stated and India productions. Initially it is recommended to match these audiences and then expand as the brand becomes better known.\n",
    "\n",
    "The largest conetnt is produced under the ratings of TV-MA and TV-14, making the Netflix audience perceived as older in age. Ideally, another assessment including audience age is required. \n",
    "\n",
    "A gap in audience seems to be that the largest category for short form content (TV Shows) is Kids TV. A great recommendation is to increase the TV-MA content which Netflix lacks. \n",
    "\n",
    "Findings for each type of content:\n",
    "* TV Shows - Most Common Producers :The largest Produces of TV SHows for the categories TV Comedy, Kids TV(TV Comedies) and Docuseries is the United States. Making the United States the largest producers of TV Shows.  Most common Categories: Kids TV and International TV Shows and Drama's. Most Common Release Years: 2016 - 2020 Most Common Date added: 2019\n",
    "\n",
    "* Movies - Most Common Producers :The largest Produces of Movies are United States and India. Most common Categories:  Darama's, International Movies and Documentaries followed by Stand-up Commedies. Most Common Release Years:2012 - 2018.  Most Common Date added: 2019\n",
    "\n",
    "Launch using later releases than Netflix whom tend to add older releases. This will attract Netflix audience and a new audience.\n",
    "\n",
    "Keep up to date with the additions to maintain audience. Netflix had a large addition year in 2019 but the succeeding years were lower. Consequently, if this continues we will likely be able to poach the Netflix audience and keep thm for longer. \n",
    "\n",
    "Use a recommendation system to suggest titles to customers based on the common words and most common categories.\n",
    "\n",
    "Launch in February when there are the lowest number of releases from Netflix.\n",
    "\n",
    "Based on months, most content has been added in July, possibly intime for school holidays in preparation to entertain children. Second most common month is december, the month of festivities and christmas, a popular time for festive content to be added. It is recommended that during to add content over the month prior (June-July) and (November - December) to keep audience for longer as well as help the audience to plan this busy period to include use of your viewing system. Allow the user to get excited and 'want' the content, therefor plan it in to their lives.\n",
    "\n",
    "It is recommended to include additions in other festive periods like that of Halloween to attract more viewings, this is not achieved by Netflix therefore a larger audience will be attracted to your viewing system.\n"
   ]
  },
  {
   "cell_type": "code",
   "execution_count": null,
   "metadata": {},
   "outputs": [],
   "source": []
  },
  {
   "cell_type": "code",
   "execution_count": null,
   "metadata": {},
   "outputs": [],
   "source": []
  }
 ],
 "metadata": {
  "kernelspec": {
   "display_name": "Python 3 (ipykernel)",
   "language": "python",
   "name": "python3"
  },
  "language_info": {
   "codemirror_mode": {
    "name": "ipython",
    "version": 3
   },
   "file_extension": ".py",
   "mimetype": "text/x-python",
   "name": "python",
   "nbconvert_exporter": "python",
   "pygments_lexer": "ipython3",
   "version": "3.7.17"
  }
 },
 "nbformat": 4,
 "nbformat_minor": 2
}
